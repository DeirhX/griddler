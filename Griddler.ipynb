{
 "cells": [
  {
   "cell_type": "code",
   "execution_count": 69,
   "id": "d3827db5-0b1e-48d7-b83d-d3fa65b69f51",
   "metadata": {
    "tags": []
   },
   "outputs": [],
   "source": [
    "import json\n",
    "import numpy as np\n",
    "import matplotlib.pyplot as plt\n",
    "\n",
    "debug_level = 0\n",
    "float_formatter = \"{:.2f}\".format\n",
    "np.set_printoptions(formatter={'float_kind':float_formatter})\n",
    "\n",
    "# Aggregation of all line solutions, represented as statistical distribution \n",
    "# 1.0 - always set,  0.0 - always unset \n",
    "class Variants:\n",
    "    def __init__(self, variants):\n",
    "        self.aggregate = None\n",
    "        self.count = 0\n",
    "        for var in variants:\n",
    "            if self.aggregate is None:\n",
    "                self.aggregate = np.zeros((var.sum()))\n",
    "            self.aggregate += var.unpack()\n",
    "            self.count += 1\n",
    "        if self.count:\n",
    "            self.aggregate /= self.count\n",
    "    def __repr__(self):\n",
    "        return f\"Variants {self.aggregate}\"\n",
    "        \n",
    "# Packed representation of one line solution\n",
    "# Even colums represent unset field, odd colums represent set fields\n",
    "# [0, 1, 3, 2] represents [.X...XX]\n",
    "class Variant:\n",
    "    def __init__(self, list):\n",
    "        self.list = list\n",
    "    def __repr__(self):\n",
    "        return f\"Variant {self.str()} {[x for x in self.list]}\"\n",
    "    def str(self):\n",
    "        out = \"\"\n",
    "        for i in self.unpack():\n",
    "            out += 'X' if i else '.'\n",
    "        return out\n",
    "    def sum(self):\n",
    "        return sum(self.list)\n",
    "    # Unpack to array where 1: occupied, 0: empty\n",
    "    def unpack(self):\n",
    "        out = np.zeros(sum(self.list))\n",
    "        index = 0\n",
    "        for i in range(len(self.list)):\n",
    "            for j in range(self.list[i]):\n",
    "                out[index] = 1 if i%2 else 0\n",
    "                index += 1\n",
    "        return out\n",
    "    # Is compatible with already laid down pieces?\n",
    "    def can_fit(self, known_pieces):\n",
    "        if not len(known_pieces): return True\n",
    "        unpacked = self.unpack()\n",
    "        if len(known_pieces) != len(unpacked): return False\n",
    "        for i,j in zip(unpacked, known_pieces):\n",
    "            if (j==1 or j==0) and (i!=j): return False\n",
    "        return True\n",
    "    \n",
    "        \n",
    "# Given specification of one line (row or column). E.g. [1,5,2]\n",
    "class Seq:\n",
    "    def __init__(self, list):\n",
    "        self.list = list\n",
    "        self.cached = None\n",
    "    def __repr__(self):\n",
    "        return f\"Seq {self.list}\"\n",
    "    # partial - partially built list of this combination\n",
    "    def variants(self, width, known_pieces=[], partial=[]):  \n",
    "        if self.cached is None:\n",
    "            self.cached = [variant for variant in self.get_variants(width, partial)]\n",
    "        for variant in self.cached:\n",
    "        # for variant in self.get_variants(width, partial):\n",
    "            print(variant)\n",
    "            yield variant \n",
    "        \n",
    "    def get_variants(self, width, partial=[]):  \n",
    "        if debug_level > 1: print(f'remain={self.list}, partial={partial}')\n",
    "        if not self.list:\n",
    "            # Successfully emptied all requirements\n",
    "            finished = Variant(partial + [width - sum(partial)])\n",
    "            yield finished\n",
    "            return\n",
    "        # Item that will be placed\n",
    "        first = self.list[0]\n",
    "        # Minimum space needed to fit all the remaining ones\n",
    "        reserved = sum(self.list[1:]) + len(self.list[1:])\n",
    "        for i in range(0 if not partial else 1, 1 + width - (first + reserved + sum(partial))):\n",
    "            yield from Seq(self.list[1:]).get_variants(width, partial + [i, first])\n",
    "\n",
    "# Solving matrix\n",
    "class Field:\n",
    "    def __init__(self, rows, cols):\n",
    "        self.rows = rows\n",
    "        self.cols = cols\n",
    "        self.mat = np.full((len(self.rows), len(self.cols)), 0.5)\n",
    "        self.npass = 0\n",
    "    def __repr__(self):\n",
    "        return f'{self.mat}'\n",
    "    def solve_step(self):\n",
    "        # Odd passes - rows. Even passes - columns\n",
    "        previous_mat = self.mat.copy()\n",
    "        is_col = self.npass % 2 == 1\n",
    "        if debug_level > 0: print(\"column pass\") if is_col else print(\"row pass\")\n",
    "        if is_col:\n",
    "            lines = self.cols\n",
    "            length = self.mat.shape[0]\n",
    "        else:\n",
    "            lines = self.rows\n",
    "            length = self.mat.shape[1]\n",
    "        \n",
    "        if debug_level > 1: print(f'{length=}, {lines=}')\n",
    "        for i in range(len(lines)):\n",
    "            known_pieces = self.mat[:,i] if is_col else self.mat[i,:]\n",
    "            # print(f'{known_pieces=}')\n",
    "            variants = Variants(lines[i].variants(length, known_pieces))\n",
    "            print(variants)\n",
    "            for j in range(len(variants.aggregate)):\n",
    "                prob = variants.aggregate[j]\n",
    "                if prob == 0 or prob == 1:\n",
    "                    row = j if is_col else i\n",
    "                    col = i if is_col else j\n",
    "                    self.mat[row,col] = prob\n",
    "\n",
    "        self.npass += 1\n",
    "        return (previous_mat != self.mat).any()\n",
    "    \n",
    "    def visualize(self):\n",
    "        fig, ax = plt.subplots(figsize=(2, 8))\n",
    "        ax.pcolormesh(self.mat, cmap='terrain_r')\n",
    "        ax.set_aspect('equal')\n",
    "        ax.set_xlim(0, self.mat.shape[1])\n",
    "        ax.set_ylim(self.mat.shape[0], 0)\n",
    "        plt.show()"
   ]
  },
  {
   "cell_type": "code",
   "execution_count": 70,
   "id": "e187d875-aac3-449e-8b92-8762ad1b84fe",
   "metadata": {
    "tags": []
   },
   "outputs": [
    {
     "name": "stdout",
     "output_type": "stream",
     "text": [
      "Variant XX.X.X. [0, 2, 1, 1, 1, 1, 1]\n",
      "Variant XX.X..X [0, 2, 1, 1, 2, 1, 0]\n",
      "Variant XX..X.X [0, 2, 2, 1, 1, 1, 0]\n",
      "Variant .XX.X.X [1, 2, 1, 1, 1, 1, 0]\n",
      "Variants [0.75 1.00 0.25 0.50 0.50 0.25 0.75]\n",
      "Variant XX.X.X. [0, 2, 1, 1, 1, 1, 1]\n",
      "Variant XX.X..X [0, 2, 1, 1, 2, 1, 0]\n",
      "Variant XX..X.X [0, 2, 2, 1, 1, 1, 0]\n",
      "Variant .XX.X.X [1, 2, 1, 1, 1, 1, 0]\n",
      "Variants [0.75 1.00 0.25 0.50 0.50 0.25 0.75]\n"
     ]
    }
   ],
   "source": [
    "debug_level = 0\n",
    "print(Variants(Seq([2,1,1]).variants(7))) # All possibilities\n",
    "print(Variants(Seq([2,1,1]).variants(7, [0.5, 0.5, 0.5, 1, 0.5, 0.5, 0.5 ]))) # Filtered by known pieces\n"
   ]
  },
  {
   "cell_type": "code",
   "execution_count": 50,
   "id": "bc89a87a-5755-4eb1-ad3a-80ad551041ec",
   "metadata": {
    "tags": []
   },
   "outputs": [
    {
     "name": "stdout",
     "output_type": "stream",
     "text": [
      "Variants [0.33 0.67 1.00 0.67 0.33]\n",
      "Variants [0.20 0.20 0.20 0.20 0.20]\n",
      "Variants [0.20 0.20 0.20 0.20 0.20]\n",
      "Variants [1.00 0.00 1.00 1.00 1.00]\n",
      "Variants [0.50 0.33 0.33 0.33 0.50]\n",
      "Variants [0.50 1.00 1.00 1.00 0.50]\n"
     ]
    },
    {
     "data": {
      "image/png": "[encoded data removed]",
      "text/plain": [
       "<Figure size 200x800 with 1 Axes>"
      ]
     },
     "metadata": {},
     "output_type": "display_data"
    },
    {
     "name": "stdout",
     "output_type": "stream",
     "text": [
      "Variants [0.33 0.67 1.00 1.00 0.67 0.33]\n",
      "Variants [0.33 0.33 0.33 0.00 0.00 1.00]\n",
      "Variants [1.00 0.00 0.00 1.00 0.00 1.00]\n",
      "Variants [0.50 0.50 0.00 1.00 0.00 1.00]\n",
      "Variants [0.00 0.33 0.67 1.00 0.67 0.33]\n"
     ]
    },
    {
     "data": {
      "image/png": "[encoded data removed]",
      "text/plain": [
       "<Figure size 200x800 with 1 Axes>"
      ]
     },
     "metadata": {},
     "output_type": "display_data"
    },
    {
     "name": "stdout",
     "output_type": "stream",
     "text": [
      "Variants [0.33 0.67 1.00 0.67 0.33]\n",
      "Variants [0.20 0.20 0.20 0.20 0.20]\n",
      "Variants [0.20 0.20 0.20 0.20 0.20]\n",
      "Variants [1.00 0.00 1.00 1.00 1.00]\n",
      "Variants [0.50 0.33 0.33 0.33 0.50]\n",
      "Variants [0.50 1.00 1.00 1.00 0.50]\n"
     ]
    },
    {
     "data": {
      "image/png": "[encoded data removed]",
      "text/plain": [
       "<Figure size 200x800 with 1 Axes>"
      ]
     },
     "metadata": {},
     "output_type": "display_data"
    },
    {
     "name": "stdout",
     "output_type": "stream",
     "text": [
      "Unsolved\n"
     ]
    }
   ],
   "source": [
    "# Read test data and solve\n",
    "with open('gridler.train.json.txt') as f:\n",
    "    data = json.load(f)\n",
    "\n",
    "rows = [Seq(row) for row in data['rows']]\n",
    "cols = [Seq(col) for col in data['columns']]\n",
    "field = Field(rows, cols)\n",
    "\n",
    "while field.solve_step():\n",
    "    field.visualize()\n",
    "\n",
    "field.visualize()\n",
    "print(\"Solved (without branching)\") if not 0.5 in field.mat else print(\"Unsolved\")\n",
    "\n",
    "# Current state:\n",
    "#  Slow\n",
    "#  Has to walk through all possibilites\n",
    "#  No branching support \n",
    "#  Can't handle big matrixes\n",
    "#  Hopefully correct :-)\n",
    "\n"
   ]
  },
  {
   "cell_type": "code",
   "execution_count": null,
   "id": "27ab9721-bd62-4694-98a0-3080f01b4320",
   "metadata": {},
   "outputs": [],
   "source": []
  }
 ],
 "metadata": {
  "kernelspec": {
   "display_name": "Python 3 (ipykernel)",
   "language": "python",
   "name": "python3"
  },
  "language_info": {
   "codemirror_mode": {
    "name": "ipython",
    "version": 3
   },
   "file_extension": ".py",
   "mimetype": "text/x-python",
   "name": "python",
   "nbconvert_exporter": "python",
   "pygments_lexer": "ipython3",
   "version": "3.9.9"
  }
 },
 "nbformat": 4,
 "nbformat_minor": 5
}
