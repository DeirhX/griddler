{
 "cells": [
  {
   "cell_type": "code",
   "execution_count": 197,
   "id": "d3827db5-0b1e-48d7-b83d-d3fa65b69f51",
   "metadata": {
    "tags": []
   },
   "outputs": [],
   "source": [
    "import json\n",
    "import numpy as np\n",
    "import matplotlib.pyplot as plt\n",
    "import time\n",
    "\n",
    "debug_level = 0\n",
    "float_formatter = \"{:.2f}\".format\n",
    "np.set_printoptions(formatter={'float_kind':float_formatter})\n",
    "\n",
    "# Aggregation of all line solutions, represented as statistical distribution \n",
    "# 1.0 - always set,  0.0 - always unset \n",
    "class Variants:\n",
    "    def __init__(self, variants):\n",
    "        self.aggregate = None\n",
    "        self.count = 0\n",
    "        for var in variants:\n",
    "            if self.aggregate is None:\n",
    "                self.aggregate = np.zeros((var.sum()))\n",
    "            self.aggregate += var.unpack()\n",
    "            self.count += 1\n",
    "        if self.count:\n",
    "            self.aggregate /= self.count\n",
    "    def __repr__(self):\n",
    "        return f\"Variants {self.aggregate}\"\n",
    "        \n",
    "# Packed representation of one line solution\n",
    "# Even colums represent unset field, odd colums represent set fields\n",
    "# [0, 1, 3, 2] represents [.X...XX]\n",
    "class Variant:\n",
    "    unpacks_done = 0\n",
    "    def __init__(self, list):\n",
    "        self.list = list\n",
    "        self.unpacked = None\n",
    "    def __repr__(self):\n",
    "        return f\"Variant {self.str()} {[x for x in self.list]}\"\n",
    "    def str(self):\n",
    "        out = \"\"\n",
    "        for i in self.unpack():\n",
    "            out += 'X' if i else '.'\n",
    "        return out\n",
    "    def sum(self):\n",
    "        return sum(self.list)\n",
    "    # Unpack to array where 1: occupied, 0: empty\n",
    "    def unpack(self):\n",
    "        if self.unpacked is None:\n",
    "            self.unpacked = np.zeros(sum(self.list))\n",
    "            index = 0\n",
    "            for i in range(len(self.list)):\n",
    "                for j in range(self.list[i]):\n",
    "                    self.unpacked[index] = 1 if i%2 else 0\n",
    "                    index += 1\n",
    "            Variant.unpacks_done += 1\n",
    "        return self.unpacked\n",
    "    # Is compatible with already laid down pieces?\n",
    "    def can_fit(self, known_pieces):\n",
    "        if not len(known_pieces): return True\n",
    "        unpacked = self.unpack()\n",
    "        # if len(known_pieces) != len(unpacked): return False\n",
    "        for i,j in zip(unpacked, known_pieces):\n",
    "            if (j==1 or j==0) and (i!=j): return False\n",
    "        return True\n",
    "    \n",
    "        \n",
    "# Given specification of one line (row or column). E.g. [1,5,2]\n",
    "class Seq:\n",
    "    def __init__(self, list):\n",
    "        self.list = list\n",
    "        self.cached = None\n",
    "    def __repr__(self):\n",
    "        return f\"Seq {self.list}\"\n",
    "    # partial - partially built list of this combination\n",
    "    def variants(self, width, known_pieces=[], partial=[]):  \n",
    "        if self.cached is None:\n",
    "            self.cached = [variant for variant in self.gather_variants(width, known_pieces, partial) if variant.can_fit(known_pieces)]\n",
    "        for variant in self.cached:\n",
    "            if variant.can_fit(known_pieces): \n",
    "                yield variant \n",
    "            \n",
    "        \n",
    "    def gather_variants(self, width, known_pieces, partial=[]):  \n",
    "        if debug_level > 1: print(f'remain={self.list}, partial={partial}')\n",
    "        if not Variant(partial).can_fit(known_pieces):\n",
    "            return\n",
    "        if not self.list:\n",
    "            # Successfully emptied all requirements\n",
    "            finished = Variant(partial + [width - sum(partial)])\n",
    "            if finished.can_fit(known_pieces):\n",
    "                yield finished\n",
    "            return\n",
    "        # Item that will be placed\n",
    "        first = self.list[0]\n",
    "        # Minimum space needed to fit all the remaining ones\n",
    "        reserved = sum(self.list[1:]) + len(self.list[1:])\n",
    "        for i in range(0 if not partial else 1, 1 + width - (first + reserved + sum(partial))):\n",
    "            yield from Seq(self.list[1:]).gather_variants(width, known_pieces, partial + [i, first])\n",
    "            \n",
    "    def variant_count(self, width):\n",
    "        space, needles = (width - (len(self.list)-2 + sum(self.list)), len(self.list))\n",
    "        return int(np.math.factorial(space + needles - 1) / (np.math.factorial(space-1) * np.math.factorial(needles)))\n",
    "        \n",
    "\n",
    "# Solving matrix\n",
    "class Field:\n",
    "    def __init__(self, rows, cols):\n",
    "        self.rows = rows\n",
    "        self.cols = cols\n",
    "        self.mat = np.full((len(self.rows), len(self.cols)), 0.5)\n",
    "        self.npass = 0\n",
    "    def __repr__(self):\n",
    "        return f'{self.mat}'\n",
    "    def solve_step(self):\n",
    "        # Odd passes - rows. Even passes - columns\n",
    "        previous_mat = self.mat.copy()\n",
    "        for _ in range(2):\n",
    "            is_col = self.npass % 2 == 1\n",
    "            if debug_level > 0: print(\"column pass\") if is_col else print(\"row pass\")\n",
    "            if is_col:\n",
    "                lines = self.cols\n",
    "                length = self.mat.shape[0]\n",
    "            else:\n",
    "                lines = self.rows\n",
    "                length = self.mat.shape[1]\n",
    "\n",
    "            if debug_level > 1: print(f'{length=}, {lines=}')\n",
    "\n",
    "            # Find the least complex line - sort by complexity\n",
    "            lines = sorted([(i,line) for i,line in enumerate(lines)], key = lambda t: t[1].variant_count(length)) \n",
    "\n",
    "            changed = None       \n",
    "            for i, line in lines:\n",
    "                # if changed: break\n",
    "                known_pieces = self.mat[:,i] if is_col else self.mat[i,:]\n",
    "                # print(f'{known_pieces=}')\n",
    "                if not 0.5 in known_pieces: continue # Already solved\n",
    "                variants = Variants(line.variants(length, known_pieces))\n",
    "                if debug_level > 1: print(variants)\n",
    "                for j in range(len(variants.aggregate)):\n",
    "                    prob = variants.aggregate[j]\n",
    "                    if prob == 0 or prob == 1:\n",
    "                        row = j if is_col else i\n",
    "                        col = i if is_col else j\n",
    "                        if (self.mat[row,col] != prob):\n",
    "                            changed = ((row, col), (self.mat[row,col], prob))\n",
    "                            self.mat[row,col] = prob\n",
    "\n",
    "            self.npass += 1\n",
    "\n",
    "        return (previous_mat != self.mat).any()\n",
    "    \n",
    "    def visualize(self):\n",
    "        fig, ax = plt.subplots(figsize=(2, 8))\n",
    "        ax.pcolormesh(self.mat, cmap='terrain_r')\n",
    "        ax.set_aspect('equal')\n",
    "        ax.set_xlim(0, self.mat.shape[1])\n",
    "        ax.set_ylim(self.mat.shape[0], 0)\n",
    "        plt.show()"
   ]
  },
  {
   "cell_type": "code",
   "execution_count": 198,
   "id": "e187d875-aac3-449e-8b92-8762ad1b84fe",
   "metadata": {
    "tags": []
   },
   "outputs": [
    {
     "name": "stdout",
     "output_type": "stream",
     "text": [
      "Variants [0.75 1.00 0.25 0.50 0.50 0.25 0.75]\n"
     ]
    },
    {
     "ename": "ValueError",
     "evalue": "The truth value of an array with more than one element is ambiguous. Use a.any() or a.all()",
     "output_type": "error",
     "traceback": [
      "\u001b[1;31m---------------------------------------------------------------------------\u001b[0m",
      "\u001b[1;31mValueError\u001b[0m                                Traceback (most recent call last)",
      "Cell \u001b[1;32mIn[198], line 3\u001b[0m\n\u001b[0;32m      1\u001b[0m debug_level \u001b[38;5;241m=\u001b[39m \u001b[38;5;241m0\u001b[39m\n\u001b[0;32m      2\u001b[0m \u001b[38;5;28mprint\u001b[39m(Variants(Seq([\u001b[38;5;241m2\u001b[39m,\u001b[38;5;241m1\u001b[39m,\u001b[38;5;241m1\u001b[39m])\u001b[38;5;241m.\u001b[39mvariants(\u001b[38;5;241m7\u001b[39m))) \u001b[38;5;66;03m# All possibilities\u001b[39;00m\n\u001b[1;32m----> 3\u001b[0m \u001b[38;5;28mprint\u001b[39m(\u001b[43mVariants\u001b[49m\u001b[43m(\u001b[49m\u001b[43mSeq\u001b[49m\u001b[43m(\u001b[49m\u001b[43m[\u001b[49m\u001b[38;5;241;43m2\u001b[39;49m\u001b[43m,\u001b[49m\u001b[38;5;241;43m1\u001b[39;49m\u001b[43m,\u001b[49m\u001b[38;5;241;43m1\u001b[39;49m\u001b[43m]\u001b[49m\u001b[43m)\u001b[49m\u001b[38;5;241;43m.\u001b[39;49m\u001b[43mvariants\u001b[49m\u001b[43m(\u001b[49m\u001b[38;5;241;43m7\u001b[39;49m\u001b[43m,\u001b[49m\u001b[43m \u001b[49m\u001b[43m[\u001b[49m\u001b[38;5;241;43m0.5\u001b[39;49m\u001b[43m,\u001b[49m\u001b[43m \u001b[49m\u001b[38;5;241;43m0.5\u001b[39;49m\u001b[43m,\u001b[49m\u001b[43m \u001b[49m\u001b[38;5;241;43m0.5\u001b[39;49m\u001b[43m,\u001b[49m\u001b[43m \u001b[49m\u001b[38;5;241;43m1\u001b[39;49m\u001b[43m,\u001b[49m\u001b[43m \u001b[49m\u001b[38;5;241;43m0.5\u001b[39;49m\u001b[43m,\u001b[49m\u001b[43m \u001b[49m\u001b[38;5;241;43m0.5\u001b[39;49m\u001b[43m,\u001b[49m\u001b[43m \u001b[49m\u001b[38;5;241;43m0.5\u001b[39;49m\u001b[43m \u001b[49m\u001b[43m]\u001b[49m\u001b[43m)\u001b[49m\u001b[43m)\u001b[49m) \u001b[38;5;66;03m# Filtered by known pieces\u001b[39;00m\n\u001b[0;32m      4\u001b[0m [variant \u001b[38;5;28;01mfor\u001b[39;00m variant \u001b[38;5;129;01min\u001b[39;00m Seq([\u001b[38;5;241m1\u001b[39m,\u001b[38;5;241m1\u001b[39m,\u001b[38;5;241m1\u001b[39m])\u001b[38;5;241m.\u001b[39mvariants(\u001b[38;5;241m7\u001b[39m)]\n\u001b[0;32m      6\u001b[0m elems \u001b[38;5;241m=\u001b[39m [\u001b[38;5;241m3\u001b[39m, \u001b[38;5;241m1\u001b[39m, \u001b[38;5;241m2\u001b[39m, \u001b[38;5;241m1\u001b[39m]\n",
      "Cell \u001b[1;32mIn[197], line 16\u001b[0m, in \u001b[0;36mVariants.__init__\u001b[1;34m(self, variants)\u001b[0m\n\u001b[0;32m     14\u001b[0m \u001b[38;5;28mself\u001b[39m\u001b[38;5;241m.\u001b[39maggregate \u001b[38;5;241m=\u001b[39m \u001b[38;5;28;01mNone\u001b[39;00m\n\u001b[0;32m     15\u001b[0m \u001b[38;5;28mself\u001b[39m\u001b[38;5;241m.\u001b[39mcount \u001b[38;5;241m=\u001b[39m \u001b[38;5;241m0\u001b[39m\n\u001b[1;32m---> 16\u001b[0m \u001b[38;5;28;01mfor\u001b[39;00m var \u001b[38;5;129;01min\u001b[39;00m variants:\n\u001b[0;32m     17\u001b[0m     \u001b[38;5;28;01mif\u001b[39;00m \u001b[38;5;28mself\u001b[39m\u001b[38;5;241m.\u001b[39maggregate \u001b[38;5;129;01mis\u001b[39;00m \u001b[38;5;28;01mNone\u001b[39;00m:\n\u001b[0;32m     18\u001b[0m         \u001b[38;5;28mself\u001b[39m\u001b[38;5;241m.\u001b[39maggregate \u001b[38;5;241m=\u001b[39m np\u001b[38;5;241m.\u001b[39mzeros((var\u001b[38;5;241m.\u001b[39msum()))\n",
      "Cell \u001b[1;32mIn[197], line 74\u001b[0m, in \u001b[0;36mSeq.variants\u001b[1;34m(self, width, known_pieces, partial)\u001b[0m\n\u001b[0;32m     72\u001b[0m \u001b[38;5;28;01mdef\u001b[39;00m \u001b[38;5;21mvariants\u001b[39m(\u001b[38;5;28mself\u001b[39m, width, known_pieces\u001b[38;5;241m=\u001b[39m[], partial\u001b[38;5;241m=\u001b[39m[]):  \n\u001b[0;32m     73\u001b[0m     \u001b[38;5;28;01mif\u001b[39;00m \u001b[38;5;28mself\u001b[39m\u001b[38;5;241m.\u001b[39mcached \u001b[38;5;129;01mis\u001b[39;00m \u001b[38;5;28;01mNone\u001b[39;00m:\n\u001b[1;32m---> 74\u001b[0m         \u001b[38;5;28mself\u001b[39m\u001b[38;5;241m.\u001b[39mcached \u001b[38;5;241m=\u001b[39m [variant \u001b[38;5;28;01mfor\u001b[39;00m variant \u001b[38;5;129;01min\u001b[39;00m \u001b[38;5;28mself\u001b[39m\u001b[38;5;241m.\u001b[39mgather_variants(width, known_pieces, partial) \u001b[38;5;28;01mif\u001b[39;00m variant\u001b[38;5;241m.\u001b[39mcan_fit(known_pieces)]\n\u001b[0;32m     75\u001b[0m     \u001b[38;5;28;01mfor\u001b[39;00m variant \u001b[38;5;129;01min\u001b[39;00m \u001b[38;5;28mself\u001b[39m\u001b[38;5;241m.\u001b[39mcached:\n\u001b[0;32m     76\u001b[0m         \u001b[38;5;28;01mif\u001b[39;00m variant\u001b[38;5;241m.\u001b[39mcan_fit(known_pieces): \n",
      "Cell \u001b[1;32mIn[197], line 74\u001b[0m, in \u001b[0;36m<listcomp>\u001b[1;34m(.0)\u001b[0m\n\u001b[0;32m     72\u001b[0m \u001b[38;5;28;01mdef\u001b[39;00m \u001b[38;5;21mvariants\u001b[39m(\u001b[38;5;28mself\u001b[39m, width, known_pieces\u001b[38;5;241m=\u001b[39m[], partial\u001b[38;5;241m=\u001b[39m[]):  \n\u001b[0;32m     73\u001b[0m     \u001b[38;5;28;01mif\u001b[39;00m \u001b[38;5;28mself\u001b[39m\u001b[38;5;241m.\u001b[39mcached \u001b[38;5;129;01mis\u001b[39;00m \u001b[38;5;28;01mNone\u001b[39;00m:\n\u001b[1;32m---> 74\u001b[0m         \u001b[38;5;28mself\u001b[39m\u001b[38;5;241m.\u001b[39mcached \u001b[38;5;241m=\u001b[39m [variant \u001b[38;5;28;01mfor\u001b[39;00m variant \u001b[38;5;129;01min\u001b[39;00m \u001b[38;5;28mself\u001b[39m\u001b[38;5;241m.\u001b[39mgather_variants(width, known_pieces, partial) \u001b[38;5;28;01mif\u001b[39;00m \u001b[43mvariant\u001b[49m\u001b[38;5;241;43m.\u001b[39;49m\u001b[43mcan_fit\u001b[49m\u001b[43m(\u001b[49m\u001b[43mknown_pieces\u001b[49m\u001b[43m)\u001b[49m]\n\u001b[0;32m     75\u001b[0m     \u001b[38;5;28;01mfor\u001b[39;00m variant \u001b[38;5;129;01min\u001b[39;00m \u001b[38;5;28mself\u001b[39m\u001b[38;5;241m.\u001b[39mcached:\n\u001b[0;32m     76\u001b[0m         \u001b[38;5;28;01mif\u001b[39;00m variant\u001b[38;5;241m.\u001b[39mcan_fit(known_pieces): \n",
      "Cell \u001b[1;32mIn[197], line 57\u001b[0m, in \u001b[0;36mVariant.can_fit\u001b[1;34m(self, known_pieces)\u001b[0m\n\u001b[0;32m     55\u001b[0m \u001b[38;5;28;01mdef\u001b[39;00m \u001b[38;5;21mcan_fit\u001b[39m(\u001b[38;5;28mself\u001b[39m, known_pieces):\n\u001b[0;32m     56\u001b[0m     \u001b[38;5;28;01mif\u001b[39;00m \u001b[38;5;129;01mnot\u001b[39;00m \u001b[38;5;28mlen\u001b[39m(known_pieces): \u001b[38;5;28;01mreturn\u001b[39;00m \u001b[38;5;28;01mTrue\u001b[39;00m\n\u001b[1;32m---> 57\u001b[0m     unpacked \u001b[38;5;241m=\u001b[39m \u001b[38;5;28;43mself\u001b[39;49m\u001b[38;5;241;43m.\u001b[39;49m\u001b[43munpack\u001b[49m\u001b[43m(\u001b[49m\u001b[43m)\u001b[49m\n\u001b[0;32m     58\u001b[0m     \u001b[38;5;66;03m# if len(known_pieces) != len(unpacked): return False\u001b[39;00m\n\u001b[0;32m     59\u001b[0m     \u001b[38;5;28;01mfor\u001b[39;00m i,j \u001b[38;5;129;01min\u001b[39;00m \u001b[38;5;28mzip\u001b[39m(unpacked, known_pieces):\n",
      "Cell \u001b[1;32mIn[197], line 45\u001b[0m, in \u001b[0;36mVariant.unpack\u001b[1;34m(self)\u001b[0m\n\u001b[0;32m     44\u001b[0m \u001b[38;5;28;01mdef\u001b[39;00m \u001b[38;5;21munpack\u001b[39m(\u001b[38;5;28mself\u001b[39m):\n\u001b[1;32m---> 45\u001b[0m     \u001b[38;5;28;01mif\u001b[39;00m \u001b[38;5;129;01mnot\u001b[39;00m \u001b[38;5;28mself\u001b[39m\u001b[38;5;241m.\u001b[39munpacked:\n\u001b[0;32m     46\u001b[0m         \u001b[38;5;28mself\u001b[39m\u001b[38;5;241m.\u001b[39munpacked \u001b[38;5;241m=\u001b[39m np\u001b[38;5;241m.\u001b[39mzeros(\u001b[38;5;28msum\u001b[39m(\u001b[38;5;28mself\u001b[39m\u001b[38;5;241m.\u001b[39mlist))\n\u001b[0;32m     47\u001b[0m         index \u001b[38;5;241m=\u001b[39m \u001b[38;5;241m0\u001b[39m\n",
      "\u001b[1;31mValueError\u001b[0m: The truth value of an array with more than one element is ambiguous. Use a.any() or a.all()"
     ]
    }
   ],
   "source": [
    "debug_level = 0\n",
    "print(Variants(Seq([2,1,1]).variants(7))) # All possibilities\n",
    "print(Variants(Seq([2,1,1]).variants(7, [0.5, 0.5, 0.5, 1, 0.5, 0.5, 0.5 ]))) # Filtered by known pieces\n",
    "[variant for variant in Seq([1,1,1]).variants(7)]\n",
    "\n",
    "elems = [3, 1, 2, 1]\n",
    "width = 12\n",
    "print(len([print(variant) for variant in Seq(elems).variants(width)]))\n",
    "\n",
    "# Discovering with a solid mathematical formula to count the number of variants\n",
    "def space_needles(elems, width):\n",
    "    return (width - (len(elems)-2 + sum(elems)), len(elems))\n",
    "def complexity(elems, width):\n",
    "    space, needles = space_needles(elems, width)\n",
    "    return adversity(needles, space)\n",
    "def adversity(needles, space):\n",
    "    print((needles, space))\n",
    "    if needles == 1: return space\n",
    "    if space == 0: return 0\n",
    "    return sum([adversity(needles-1, i) for i in range(space, 0, -1)])\n",
    "def sensibility(elems, width):\n",
    "    space, needles = space_needles(elems, width)\n",
    "    return int(np.math.factorial(space + needles - 1) / (np.math.factorial(space-1) * np.math.factorial(needles)))\n",
    "\n",
    "# print(f'Complex: {complexity(elems, width)}')\n",
    "# print(f'Sense: {sensibility(elems, width)}')\n",
    "print(f'VarCount: {Seq(elems).variant_count(width)}')"
   ]
  },
  {
   "cell_type": "code",
   "execution_count": 195,
   "id": "a90ed170-7d02-450b-91c9-6dc602b271f8",
   "metadata": {
    "tags": []
   },
   "outputs": [],
   "source": [
    "# Read test data and solve\n",
    "with open('gridler.test.json.txt') as f:\n",
    "    data = json.load(f)\n",
    "\n",
    "rows = [Seq(row) for row in data['rows']]\n",
    "cols = [Seq(col) for col in data['columns']]\n",
    "field = Field(rows, cols)\n",
    "\n"
   ]
  },
  {
   "cell_type": "code",
   "execution_count": 196,
   "id": "45cbfe48-6770-4450-b93b-2b0095700479",
   "metadata": {
    "tags": []
   },
   "outputs": [
    {
     "name": "stdout",
     "output_type": "stream",
     "text": [
      "time taken: 3.452 s (total 3.452 s) \n"
     ]
    },
    {
     "data": {
      "image/png": "[encoded data removed]",
      "text/plain": [
       "<Figure size 200x800 with 1 Axes>"
      ]
     },
     "metadata": {},
     "output_type": "display_data"
    },
    {
     "name": "stdout",
     "output_type": "stream",
     "text": [
      "time taken: 0.634 s (total 4.086 s) \n",
      "time taken: 0.379 s (total 4.465 s) \n",
      "time taken: 0.358 s (total 4.823 s) \n",
      "time taken: 0.342 s (total 5.166 s) \n",
      "time taken: 0.368 s (total 5.534 s) \n",
      "time taken: 0.321 s (total 5.855 s) \n",
      "time taken: 0.319 s (total 6.173 s) \n",
      "time taken: 0.213 s (total 6.387 s) \n",
      "time taken: 0.182 s (total 6.569 s) \n",
      "time taken: 0.138 s (total 6.707 s) \n"
     ]
    },
    {
     "data": {
      "image/png": "[encoded data removed]",
      "text/plain": [
       "<Figure size 200x800 with 1 Axes>"
      ]
     },
     "metadata": {},
     "output_type": "display_data"
    },
    {
     "name": "stdout",
     "output_type": "stream",
     "text": [
      "time taken: 0.156 s (total 6.863 s) \n"
     ]
    },
    {
     "data": {
      "image/png": "[encoded data removed]",
      "text/plain": [
       "<Figure size 200x800 with 1 Axes>"
      ]
     },
     "metadata": {},
     "output_type": "display_data"
    },
    {
     "name": "stdout",
     "output_type": "stream",
     "text": [
      "Solved (without branching)\n",
      " in 6.956 s\n",
      "Variant.unpacks_done=580732\n"
     ]
    }
   ],
   "source": [
    "start = time.perf_counter()\n",
    "prev = start\n",
    "step = 0\n",
    "Variant.unpacks_done = 0\n",
    "while field.solve_step():\n",
    "    step += 1\n",
    "    print(f'time taken: {time.perf_counter() - prev:.3f} s (total {time.perf_counter() - start:.3f} s) ')\n",
    "    prev = time.perf_counter()\n",
    "    if step % 10 == 1: field.visualize()\n",
    "\n",
    "field.visualize()\n",
    "print(\"Solved (without branching)\") if not 0.5 in field.mat else print(\"Unsolved\")\n",
    "print(f\" in {time.perf_counter() - start:.3f} s\")\n",
    "print(f\"{Variant.unpacks_done=}\")\n",
    "\n",
    "# Current state:\n",
    "#  Slow\n",
    "#  Has to walk through all possibilites\n",
    "#  No branching support \n",
    "#  Can't handle big matrixes\n",
    "#  Hopefully correct :-)"
   ]
  },
  {
   "cell_type": "code",
   "execution_count": null,
   "id": "3dc3006e-c72a-466e-b6ac-bec3d247f81f",
   "metadata": {},
   "outputs": [],
   "source": []
  },
  {
   "cell_type": "code",
   "execution_count": null,
   "id": "894bcb4a-6413-417f-9956-0cb7058b892c",
   "metadata": {},
   "outputs": [],
   "source": []
  }
 ],
 "metadata": {
  "kernelspec": {
   "display_name": "Python 3 (ipykernel)",
   "language": "python",
   "name": "python3"
  },
  "language_info": {
   "codemirror_mode": {
    "name": "ipython",
    "version": 3
   },
   "file_extension": ".py",
   "mimetype": "text/x-python",
   "name": "python",
   "nbconvert_exporter": "python",
   "pygments_lexer": "ipython3",
   "version": "3.9.9"
  }
 },
 "nbformat": 4,
 "nbformat_minor": 5
}
